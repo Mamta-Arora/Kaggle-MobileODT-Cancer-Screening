{
 "cells": [
  {
   "cell_type": "markdown",
   "metadata": {},
   "source": [
    "## Load relevant packages"
   ]
  },
  {
   "cell_type": "code",
   "execution_count": null,
   "metadata": {
    "collapsed": false
   },
   "outputs": [],
   "source": [
    "# Import relevant packages\n",
    "import dicom\n",
    "import pandas as pd\n",
    "import numpy as np\n",
    "import matplotlib.pyplot as plt\n",
    "import os\n",
    "import cv2\n",
    "%matplotlib inline"
   ]
  },
  {
   "cell_type": "markdown",
   "metadata": {},
   "source": [
    "## Load cancer labels for patients\n",
    "\n",
    "The file \"stage1_labels.csv\" is assumed to be in the same folder as the notebook."
   ]
  },
  {
   "cell_type": "code",
   "execution_count": null,
   "metadata": {
    "collapsed": false
   },
   "outputs": [],
   "source": [
    "#================================================================================\n",
    "# THIS PART IS AUTOMATIC\n",
    "cancerlabels = pd.read_csv(\"./stage1_labels.csv\", index_col=0)\n",
    "print \"We have a total of %d patients, %.2f%% of which were eventually diagnosed with cancer\" %(cancerlabels.shape[0], \n",
    "                                                                   cancerlabels.cancer.mean()*100)"
   ]
  },
  {
   "cell_type": "markdown",
   "metadata": {},
   "source": [
    "## Load image files\n",
    "\n",
    "Each folder contains the images of a given patient; the images are loaded using the package dicom . \n",
    "\n",
    "All we need to do is specify the pathname for the folder in which we placed all the patients images."
   ]
  },
  {
   "cell_type": "code",
   "execution_count": null,
   "metadata": {
    "collapsed": false
   },
   "outputs": [],
   "source": [
    "#================================================================================\n",
    "# USER INPUT\n",
    "imagesfolder_path = \"./LungImages/Sample\"\n",
    "\n",
    "#================================================================================\n",
    "# THIS PART IS AUTOMATIC\n",
    "allfilepathnames = [[folderandfiles[0]+\"/\"+imname for imname in folderandfiles[2]] \n",
    "                          for folderandfiles in os.walk(imagesfolder_path) if folderandfiles[2]!=[]]\n",
    "\n",
    "#allimagenames = [imname[:-4] for folderandfiles in os.walk(\"./LungImages/Sample\") \n",
    "#                 for imname in folderandfiles[2] if folderandfiles[2]!=[]]"
   ]
  },
  {
   "cell_type": "markdown",
   "metadata": {},
   "source": [
    "\"allfilepathnames\" has the structure: [*list of paths for first patient*, *list of paths for second patient*, ...]\n",
    "\n",
    "where each list of paths is [*path of first photo*, *path of second photo*, ...]\n",
    "\n",
    "So each element in allfilepathnames contains all images for that patient. The problem is that the ordering of these photos is pretty much random, i.e. not from top to bottom along the patient's chest.\n",
    "\n",
    "We'll now load the files and order them correctly."
   ]
  },
  {
   "cell_type": "code",
   "execution_count": null,
   "metadata": {
    "collapsed": false
   },
   "outputs": [],
   "source": [
    "# First we make a function that takes a list of file-pathnames, loads the images, and returns\n",
    "# the loaded dicom files along with the patient's ID.\n",
    "def getSlicesandID(listofpathnames):\n",
    "    patientslices = np.array([dicom.read_file(pathname) for pathname in listofpathnames])\n",
    "    # Each slice has a whole bunch of attributes belonging to the patient. \n",
    "    # N.B. the attribute PatientBirthDate is fake in this dataset.\n",
    "    patientID = patientslices[0].PatientID\n",
    "    \n",
    "    # Now we reorder the slices according to the z-axis positions, given by the attribute SliceLocation\n",
    "    correctordering = np.argsort([currentslice.SliceLocation for currentslice in patientslices])\n",
    "    patientslices = patientslices[correctordering]\n",
    "    \n",
    "    return (patientslices,patientID)"
   ]
  },
  {
   "cell_type": "markdown",
   "metadata": {},
   "source": [
    "### Resizing images\n",
    "\n",
    "The images are large - 512x512 pixels. We also have many slices, several hundreds of them usually. We now make functions for making them all into a standard size.\n",
    "\n",
    "*We assume the slices are evenly spaced out for each patient!*"
   ]
  },
  {
   "cell_type": "code",
   "execution_count": null,
   "metadata": {
    "collapsed": true
   },
   "outputs": [],
   "source": [
    "#================================================================================\n",
    "# USER INPUT\n",
    "imagesize_xy = (150, 150) # This is the number of pixels on each axis.\n",
    "num_slices = 20"
   ]
  },
  {
   "cell_type": "markdown",
   "metadata": {},
   "source": [
    "In order to resize them all we make a little function that does this. When selecting the number of slices in the vertical direction, we have to choose whether we want to simply select out a subset of slices (evenly spaced out to each other) or whether we want to take the average of a chosen number of vertical \"blocks\"; this second approach effectively increases the slice thickness so as to give you a total number of slices = num_slices."
   ]
  },
  {
   "cell_type": "code",
   "execution_count": null,
   "metadata": {
    "collapsed": false
   },
   "outputs": [],
   "source": [
    "# This function takes a list of slices and returns a list of matrices describing the pixel-values,\n",
    "# where the number and shape of matrices is determined by resize_pixels and num_vertical_images.\n",
    "# We can choose method=\"average\" of method=\"spaced\".\n",
    "def resizeImagesAndThickness(currentpatientslices, resize_pixels, num_vertical_images, method=\"average\"):\n",
    "    averagedistance = len(currentpatientslices) / float(num_vertical_images)\n",
    "    # Now we'll turn this into a list of ranges that determine the positions participating in each chunk.\n",
    "    chunkpositions = [[int(i*averagedistance), int((i+1)*averagedistance)] for i in range(num_vertical_images)]\n",
    "    if method==\"average\":\n",
    "        # We make lists of slices in each chunk\n",
    "        slicechunks = [currentpatientslices[chunkpos[0]: chunkpos[1]] for chunkpos in chunkpositions]\n",
    "        # For each slice in each chunk, we use the attribute .pixel_array to get the pixels-matrix.\n",
    "        # We then resize this matrix using opencv, and take the mean of all matrices.\n",
    "        finalimages = [np.mean([cv2.resize(theslice.pixel_array, resize_pixels) for theslice in chunk], axis=0) \n",
    "                     for chunk in slicechunks]\n",
    "    if method==\"spaced\":\n",
    "        # We'll only select the middle element in each chunk.\n",
    "        middlepoint_slices = [currentpatientslices[int(np.mean(chunkpos))] for chunkpos in chunkpositions]\n",
    "        finalimages = [cv2.resize(theslice.pixel_array, resize_pixels) for theslice in middlepoint_slices]\n",
    "    return finalimages"
   ]
  },
  {
   "cell_type": "markdown",
   "metadata": {},
   "source": [
    "Now we'll finally put it all together and extract the matrices (repesenting slices) for each patient."
   ]
  },
  {
   "cell_type": "code",
   "execution_count": null,
   "metadata": {
    "collapsed": false
   },
   "outputs": [],
   "source": [
    "#================================================================================\n",
    "# USER INPUT\n",
    "slice_thickness_method = \"average\" # Have to choose either \"average\" or \"spaced\"\n",
    "\n",
    "#================================================================================\n",
    "# THIS PART IS AUTOMATIC\n",
    "# (N.B. This part of the code would be easy to parallelize)\n",
    "\n",
    "allpatients_slicematrices = []\n",
    "allpatients_ID = []\n",
    "\n",
    "for folder in allfilepathnames:\n",
    "    (patientslices,patientID) = getSlicesandID(folder)\n",
    "    slicematrices = resizeImagesAndThickness(patientslices, imagesize_xy, num_slices, method=slice_thickness_method)\n",
    "    \n",
    "    allpatients_ID.append(patientID)\n",
    "    allpatients_slicematrices.append(slicematrices)\n",
    "# It's nice to have them in numpy array format\n",
    "allpatients_slicematrices = np.array(allpatients_slicematrices)\n",
    "allpatients_ID = np.array(allpatients_ID)"
   ]
  },
  {
   "cell_type": "markdown",
   "metadata": {},
   "source": [
    "Now we have all image files for all patients!"
   ]
  },
  {
   "cell_type": "markdown",
   "metadata": {},
   "source": [
    "## Save the matrices to file"
   ]
  },
  {
   "cell_type": "code",
   "execution_count": null,
   "metadata": {
    "collapsed": true
   },
   "outputs": [],
   "source": [
    "np.save('allpatients_slicematrices.npy', allpatients_slicematrices)"
   ]
  },
  {
   "cell_type": "markdown",
   "metadata": {},
   "source": [
    "## Draw slices\n",
    "\n",
    "We'll now draw the slices for a few patients, just to see aht they look like. We'll make a little function that does this."
   ]
  },
  {
   "cell_type": "code",
   "execution_count": null,
   "metadata": {
    "collapsed": false
   },
   "outputs": [],
   "source": [
    "# The insput is a list of matrices describing the pixels. The matrices are not required to all have the same resolution.\n",
    "def drawSlices(list_of_image_matrices):\n",
    "    # We'll make a figure with subplots in it\n",
    "    numberofrows = int(np.ceil(len(list_of_image_matrices) / 6.))\n",
    "    fig, axes = plt.subplots(nrows=numberofrows, ncols=6, figsize=(12,2*numberofrows))\n",
    "    # Now on each axis we can draw the slice\n",
    "    for (currentax, currentimage) in zip(axes.ravel(), list_of_image_matrices):\n",
    "        currentax.imshow(currentimage, cmap=\"gray\")\n",
    "        # The ticks are useless and ugly\n",
    "        currentax.set_xticks([])\n",
    "        currentax.set_yticks([])\n",
    "    # Finally we remove those plots that have nothing in them\n",
    "    for remainingax in axes.ravel()[len(list_of_image_matrices):]:\n",
    "        remainingax.axis(\"off\")\n",
    "    return fig, axes"
   ]
  },
  {
   "cell_type": "code",
   "execution_count": null,
   "metadata": {
    "collapsed": false
   },
   "outputs": [],
   "source": [
    "print \"Patient without cancer\"\n",
    "drawSlices(allpatients_slicematrices[0]);"
   ]
  },
  {
   "cell_type": "code",
   "execution_count": null,
   "metadata": {
    "collapsed": false
   },
   "outputs": [],
   "source": [
    "print \"Patient with cancer\"\n",
    "drawSlices(allpatients_slicematrices[4]);"
   ]
  },
  {
   "cell_type": "code",
   "execution_count": null,
   "metadata": {
    "collapsed": true
   },
   "outputs": [],
   "source": []
  }
 ],
 "metadata": {
  "anaconda-cloud": {},
  "kernelspec": {
   "display_name": "Python [Root]",
   "language": "python",
   "name": "Python [Root]"
  },
  "language_info": {
   "codemirror_mode": {
    "name": "ipython",
    "version": 2
   },
   "file_extension": ".py",
   "mimetype": "text/x-python",
   "name": "python",
   "nbconvert_exporter": "python",
   "pygments_lexer": "ipython2",
   "version": "2.7.12"
  }
 },
 "nbformat": 4,
 "nbformat_minor": 2
}
